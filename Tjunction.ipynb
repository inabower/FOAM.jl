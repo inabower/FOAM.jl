{
 "cells": [
  {
   "cell_type": "code",
   "execution_count": 1,
   "metadata": {},
   "outputs": [
    {
     "ename": "LoadError",
     "evalue": "PyError (PyImport_ImportModule\n\nThe Python package PyFoam could not be found by pyimport. Usually this means\nthat you did not install PyFoam in the Python version being used by PyCall.\n\nPyCall is currently configured to use the Python version at:\n\npython3\n\nand you should use whatever mechanism you usually use (apt-get, pip, conda,\netcetera) to install the Python package containing the PyFoam module.\n\nOne alternative is to re-configure PyCall to use a different Python\nversion on your system: set ENV[\"PYTHON\"] to the path/name of the python\nexecutable you want to use, run Pkg.build(\"PyCall\"), and re-launch Julia.\n\nAnother alternative is to configure PyCall to use a Julia-specific Python\ndistribution via the Conda.jl package (which installs a private Anaconda\nPython distribution), which has the advantage that packages can be installed\nand kept up-to-date via Julia.  As explained in the PyCall documentation,\nset ENV[\"PYTHON\"]=\"\", run Pkg.build(\"PyCall\"), and re-launch Julia. Then,\nTo install the PyFoam module, you can use `pyimport_conda(\"PyFoam\", PKG)`,\nwhere PKG is the Anaconda package the contains the module PyFoam,\nor alternatively you can use the Conda package directly (via\n`using Conda` followed by `Conda.add` etcetera).\n\n) <class 'ModuleNotFoundError'>\nModuleNotFoundError(\"No module named 'PyFoam'\",)\n",
     "output_type": "error",
     "traceback": [
      "PyError (PyImport_ImportModule\n\nThe Python package PyFoam could not be found by pyimport. Usually this means\nthat you did not install PyFoam in the Python version being used by PyCall.\n\nPyCall is currently configured to use the Python version at:\n\npython3\n\nand you should use whatever mechanism you usually use (apt-get, pip, conda,\netcetera) to install the Python package containing the PyFoam module.\n\nOne alternative is to re-configure PyCall to use a different Python\nversion on your system: set ENV[\"PYTHON\"] to the path/name of the python\nexecutable you want to use, run Pkg.build(\"PyCall\"), and re-launch Julia.\n\nAnother alternative is to configure PyCall to use a Julia-specific Python\ndistribution via the Conda.jl package (which installs a private Anaconda\nPython distribution), which has the advantage that packages can be installed\nand kept up-to-date via Julia.  As explained in the PyCall documentation,\nset ENV[\"PYTHON\"]=\"\", run Pkg.build(\"PyCall\"), and re-launch Julia. Then,\nTo install the PyFoam module, you can use `pyimport_conda(\"PyFoam\", PKG)`,\nwhere PKG is the Anaconda package the contains the module PyFoam,\nor alternatively you can use the Conda package directly (via\n`using Conda` followed by `Conda.add` etcetera).\n\n) <class 'ModuleNotFoundError'>\nModuleNotFoundError(\"No module named 'PyFoam'\",)\n",
      "",
      "Stacktrace:",
      " [1] pyimport(::String) at /home/inabower/.julia/packages/PyCall/0jMpb/src/PyCall.jl:486",
      " [2] top-level scope at /home/inabower/.julia/packages/PyCall/0jMpb/src/PyCall.jl:536",
      " [3] include at ./boot.jl:317 [inlined]",
      " [4] include_relative(::Module, ::String) at ./loading.jl:1041",
      " [5] include(::Module, ::String) at ./sysimg.jl:29",
      " [6] include(::String) at ./client.jl:388",
      " [7] top-level scope at In[1]:1"
     ]
    }
   ],
   "source": [
    "include(\"src/FOAM.jl\")\n",
    "using PyPlot"
   ]
  },
  {
   "cell_type": "code",
   "execution_count": null,
   "metadata": {},
   "outputs": [],
   "source": [
    "orgCase = ENV[\"FOAM_TUTORIALS\"] * \"/incompressible/pimpleFoam/RAS/TJunction\"\n",
    "case = \"Tjunction.pimpleFoam\"\n",
    "if !isdir(\"test\")\n",
    "    mkdir(\"test\")\n",
    "end\n",
    "n = 0\n",
    "while true\n",
    "    name = joinpath(\"./test\",join([case,n],\"_\"))\n",
    "    if !isdir(name)\n",
    "        case = name\n",
    "        break\n",
    "    end\n",
    "    n += 1\n",
    "end\n",
    "run(`cp -r $orgCase $case`)\n",
    "runCase(case)"
   ]
  }
 ],
 "metadata": {
  "kernelspec": {
   "display_name": "Julia 1.0.1",
   "language": "julia",
   "name": "julia-1.0"
  },
  "language_info": {
   "file_extension": ".jl",
   "mimetype": "application/julia",
   "name": "julia",
   "version": "1.0.1"
  }
 },
 "nbformat": 4,
 "nbformat_minor": 2
}
